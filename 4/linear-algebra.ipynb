{
 "cells": [
  {
   "cell_type": "code",
   "execution_count": null,
   "metadata": {},
   "outputs": [],
   "source": [
    "%%HTML\n",
    "<link rel=\"stylesheet\" type=\"text/css\" href=\"../custom.css\">"
   ]
  },
  {
   "cell_type": "markdown",
   "metadata": {},
   "source": [
    "# 応用計量分析２（第4回）\n",
    "\n",
    "線形代数\n",
    "\n",
    "\n",
    "\n",
    "\n",
    "\n",
    "### 担当教員: 梶野 洸（かじの ひろし）\n"
   ]
  },
  {
   "cell_type": "markdown",
   "metadata": {},
   "source": [
    "# 本日の目標\n",
    "\n",
    "- 線形代数を思い出す\n",
    "- Python で線形代数の数値計算をやる\n",
    "- 主成分分析（PCA）を実装する"
   ]
  },
  {
   "cell_type": "markdown",
   "metadata": {},
   "source": [
    "# 線形代数で使うオブジェクト\n",
    "\n",
    "- ベクトル $x = \\begin{bmatrix} 1 \\\\ 0 \\end{bmatrix}$"
   ]
  },
  {
   "cell_type": "code",
   "execution_count": null,
   "metadata": {},
   "outputs": [],
   "source": [
    "import numpy as np # \n",
    "x = np.array([1.0, 0.0])\n",
    "print(x)"
   ]
  },
  {
   "cell_type": "markdown",
   "metadata": {},
   "source": [
    "# なぜ `numpy` を使うか？\n",
    "- それぞれリストでも書けるがリストだと演算が定義されていない。\n",
    "    - ベクトルの足し算\n",
    "    - 行列の掛け算など\n",
    "- `numpy` では `array` の間の演算として定義されている。"
   ]
  },
  {
   "cell_type": "markdown",
   "metadata": {},
   "source": [
    "# ベクトル\n",
    "$x=\\begin{bmatrix}1 \\\\ 0 \\end{bmatrix}$, $y=\\begin{bmatrix}0 \\\\ 1\\end{bmatrix}$ とする"
   ]
  },
  {
   "cell_type": "code",
   "execution_count": null,
   "metadata": {},
   "outputs": [],
   "source": [
    "x = np.array([1.0, 0])\n",
    "y = np.array([0, 1.0])\n",
    "print(x, y)"
   ]
  },
  {
   "cell_type": "markdown",
   "metadata": {},
   "source": [
    "- ベクトルのスカラー倍: $3x$"
   ]
  },
  {
   "cell_type": "code",
   "execution_count": null,
   "metadata": {},
   "outputs": [],
   "source": [
    "print(3 * x)"
   ]
  },
  {
   "cell_type": "markdown",
   "metadata": {},
   "source": [
    "- ベクトル同士の足し算・引き算: $x + y$, $x - y$\n",
    "- より一般的に線形結合: $3x - 10y$"
   ]
  },
  {
   "cell_type": "code",
   "execution_count": null,
   "metadata": {},
   "outputs": [],
   "source": [
    "print(x + y)\n",
    "print(x - y)\n",
    "print(3 * x - 10 * y)"
   ]
  },
  {
   "cell_type": "markdown",
   "metadata": {},
   "source": [
    "- 内積: $x \\cdot y$, $(3x - y) \\cdot (x+2y)$"
   ]
  },
  {
   "cell_type": "code",
   "execution_count": null,
   "metadata": {},
   "outputs": [],
   "source": [
    "print(x @ y)\n",
    "print((3 * x - y) @ (x + 2 * y))\n",
    "\n",
    "print(np.dot(x, y)) # 関数の形で書くこともできる"
   ]
  },
  {
   "cell_type": "markdown",
   "metadata": {},
   "source": [
    "※内積は、2つベクトルを受け取って、1つのスカラーを返す**関数**として書ける"
   ]
  },
  {
   "cell_type": "markdown",
   "metadata": {},
   "source": [
    "- ノルム: $\\|2x - y\\|_2$"
   ]
  },
  {
   "cell_type": "code",
   "execution_count": null,
   "metadata": {},
   "outputs": [],
   "source": [
    "print(((2 * x - y) @ (2 * x - y)) ** (0.5)) # 内積を使って計算した場合\n",
    "print(np.linalg.norm(2 * x - y)) # numpyの関数を使って計算した場合"
   ]
  },
  {
   "cell_type": "markdown",
   "metadata": {},
   "source": [
    "- 要素積（アダマール積）: $x\\circ y$\n",
    "\n",
    "各次元で積を取る演算"
   ]
  },
  {
   "cell_type": "code",
   "execution_count": null,
   "metadata": {},
   "outputs": [],
   "source": [
    "print(x * y)"
   ]
  },
  {
   "cell_type": "markdown",
   "metadata": {},
   "source": [
    "# ここまでのまとめ\n",
    "- ベクトルはnumpyの `array` というオブジェクトで定義する\n",
    "- 普通の数値と同じような演算ができる\n",
    "- 内積やノルムなど、線形代数特有の計算は**関数**を用いて計算する\n",
    "    - 内積: `np.dot`\n",
    "    - ノルム: `np.linalg.norm`"
   ]
  },
  {
   "cell_type": "markdown",
   "metadata": {},
   "source": [
    "# 想定QA\n",
    "\n",
    "Q. 欲しい関数があるかどうか調べたい\n",
    "\n",
    "A. ググるかライブラリのAPIを見る（numpyは[ここ](https://docs.scipy.org/doc/numpy/reference/)）"
   ]
  },
  {
   "cell_type": "markdown",
   "metadata": {},
   "source": [
    "Q. `np.dot` とか `np.linalg.norm` とかなんやねん\n",
    "\n",
    "A. ライブラリは階層構造になっている。\n",
    "- `np.dot` は、`numpy` (`np`と書いてる)直下に定義された `dot` という関数、\n",
    "- `np.linalg.norm` は、`numpy` の下の `linalg` (linear algebra; 線形代数)という線形代数の関数をまとめた集まりのなかの `norm` という関数\n",
    "と解釈する"
   ]
  },
  {
   "cell_type": "markdown",
   "metadata": {},
   "source": [
    "Q. じゃあ `np.array` は？\n",
    "\n",
    "A. オブジェクトを作る関数と言ってもいいかも。\n",
    "\n",
    "リストを受け取って `array` を返す"
   ]
  },
  {
   "cell_type": "markdown",
   "metadata": {},
   "source": [
    "# 行列\n",
    "$A = \\begin{bmatrix} 1 & 1 \\\\ 0 & 2 \\end{bmatrix}$"
   ]
  },
  {
   "cell_type": "code",
   "execution_count": null,
   "metadata": {},
   "outputs": [],
   "source": [
    "# np.array にリストのリストを渡すと行列\n",
    "A = np.array([[1.0, 1.0],\n",
    "              [0.0, 2.0]])\n",
    "print(A)"
   ]
  },
  {
   "cell_type": "markdown",
   "metadata": {},
   "source": [
    "# 行列とベクトルの積\n",
    "$Ax$\n",
    "\n",
    "$x^\\top A$"
   ]
  },
  {
   "cell_type": "code",
   "execution_count": null,
   "metadata": {},
   "outputs": [],
   "source": [
    "print(A @ x)\n",
    "print(x @ A)"
   ]
  },
  {
   "cell_type": "code",
   "execution_count": null,
   "metadata": {},
   "outputs": [],
   "source": [
    "print(A @ np.array([1,2,3,4])) # 2x2の行列に4次元のベクトルは掛けられない"
   ]
  },
  {
   "cell_type": "markdown",
   "metadata": {},
   "source": [
    "# 行列と行列の積\n",
    "$A = \\begin{bmatrix} 1 & 1 \\\\ 0 & 2 \\end{bmatrix}$, $B = \\begin{bmatrix} 0 & 1 \\\\ 1 & 2 \\end{bmatrix}$"
   ]
  },
  {
   "cell_type": "code",
   "execution_count": null,
   "metadata": {},
   "outputs": [],
   "source": [
    "A = np.array([[1.0, 1.0],\n",
    "              [0.0, 2.0]])\n",
    "B = np.array([[0.0, 1.0],\n",
    "              [1.0, 2.0]])\n",
    "print(A @ B)\n",
    "print(B @ A)"
   ]
  },
  {
   "cell_type": "markdown",
   "metadata": {},
   "source": [
    "# 演習\n",
    "\n",
    "- $A = \\begin{bmatrix} 2 & 1 \\\\ 1 & 2 \\end{bmatrix}$ の最大固有値を計算せよ"
   ]
  },
  {
   "cell_type": "code",
   "execution_count": null,
   "metadata": {},
   "outputs": [],
   "source": [
    "np.linalg.eigvals(np.array([[2,1],[1,2]]))"
   ]
  },
  {
   "cell_type": "code",
   "execution_count": null,
   "metadata": {},
   "outputs": [],
   "source": []
  }
 ],
 "metadata": {
  "language_info": {
   "name": "python",
   "pygments_lexer": "ipython3"
  }
 },
 "nbformat": 4,
 "nbformat_minor": 2
}
