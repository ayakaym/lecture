{
 "cells": [
  {
   "cell_type": "code",
   "execution_count": null,
   "metadata": {},
   "outputs": [],
   "source": [
    "%%HTML\n",
    "<link rel=\"stylesheet\" type=\"text/css\" href=\"../custom.css\">"
   ]
  },
  {
   "cell_type": "markdown",
   "metadata": {},
   "source": [
    "# 応用計量分析２（第4回）\n",
    "\n",
    "線形代数\n",
    "\n",
    "\n",
    "\n",
    "\n",
    "\n",
    "### 担当教員: 梶野 洸（かじの ひろし）\n"
   ]
  },
  {
   "cell_type": "markdown",
   "metadata": {},
   "source": [
    "# 本日の目標\n",
    "\n",
    "- 線形代数を思い出す\n",
    "- Python で線形代数の数値計算をやる\n",
    "- 主成分分析（PCA）を実装する"
   ]
  },
  {
   "cell_type": "markdown",
   "metadata": {},
   "source": [
    "# 線形代数で使うオブジェクト\n",
    "\n",
    "- ベクトル $x = \\begin{bmatrix} 1 \\\\ 0 \\end{bmatrix}$"
   ]
  },
  {
   "cell_type": "code",
   "execution_count": null,
   "metadata": {},
   "outputs": [],
   "source": [
    "import numpy as np # \n",
    "x = np.array([1.0, 0.0])\n",
    "print(x)"
   ]
  },
  {
   "cell_type": "markdown",
   "metadata": {},
   "source": [
    "# なぜ `numpy` を使うか？\n",
    "- それぞれリストでも書けるがリストだと演算が定義されていない。\n",
    "    - ベクトルの足し算\n",
    "    - 行列の掛け算など\n",
    "- `numpy` では `array` の間の演算として定義されている。"
   ]
  },
  {
   "cell_type": "markdown",
   "metadata": {},
   "source": [
    "# ベクトル\n",
    "$x=\\begin{bmatrix}1 \\\\ 0 \\end{bmatrix}$, $y=\\begin{bmatrix}0 \\\\ 1\\end{bmatrix}$ とする"
   ]
  },
  {
   "cell_type": "code",
   "execution_count": null,
   "metadata": {},
   "outputs": [],
   "source": [
    "x = np.array([1.0, 0])\n",
    "y = np.array([0, 1.0])\n",
    "print(x, y)"
   ]
  },
  {
   "cell_type": "markdown",
   "metadata": {},
   "source": [
    "- ベクトルのスカラー倍: $3x$"
   ]
  },
  {
   "cell_type": "code",
   "execution_count": null,
   "metadata": {},
   "outputs": [],
   "source": [
    "print(3 * x)"
   ]
  },
  {
   "cell_type": "markdown",
   "metadata": {},
   "source": [
    "- ベクトル同士の足し算・引き算: $x + y$, $x - y$\n",
    "- より一般的に線形結合: $3x - 10y$"
   ]
  },
  {
   "cell_type": "code",
   "execution_count": null,
   "metadata": {},
   "outputs": [],
   "source": [
    "print(x + y)\n",
    "print(x - y)\n",
    "print(3 * x - 10 * y)"
   ]
  },
  {
   "cell_type": "markdown",
   "metadata": {},
   "source": [
    "- 内積: $x \\cdot y$, $(3x - y) \\cdot (x+2y)$"
   ]
  },
  {
   "cell_type": "code",
   "execution_count": null,
   "metadata": {},
   "outputs": [],
   "source": [
    "print(x @ y)\n",
    "print((3 * x - y) @ (x + 2 * y))\n",
    "\n",
    "print(np.dot(x, y)) # 関数の形で書くこともできる"
   ]
  },
  {
   "cell_type": "markdown",
   "metadata": {},
   "source": [
    "※内積は、2つベクトルを受け取って、1つのスカラーを返す**関数**としても書ける"
   ]
  },
  {
   "cell_type": "markdown",
   "metadata": {},
   "source": [
    "- ノルム: $\\|2x - y\\|_2$"
   ]
  },
  {
   "cell_type": "code",
   "execution_count": null,
   "metadata": {},
   "outputs": [],
   "source": [
    "print(((2 * x - y) @ (2 * x - y)) ** (0.5)) # 内積を使って計算した場合\n",
    "print(np.linalg.norm(2 * x - y)) # numpyの関数を使って計算した場合"
   ]
  },
  {
   "cell_type": "markdown",
   "metadata": {},
   "source": [
    "- 要素積（アダマール積）: $x\\circ y$\n",
    "\n",
    "各次元で積を取る演算"
   ]
  },
  {
   "cell_type": "code",
   "execution_count": null,
   "metadata": {},
   "outputs": [],
   "source": [
    "print(x * y)"
   ]
  },
  {
   "cell_type": "markdown",
   "metadata": {},
   "source": [
    "# ここまでのまとめ\n",
    "- ベクトルはnumpyの `array` というオブジェクトで定義する\n",
    "- 普通の数値と同じような演算ができる\n",
    "- 内積やノルムなど、線形代数特有の計算は**関数**を用いて計算する\n",
    "    - 内積: `np.dot`\n",
    "    - ノルム: `np.linalg.norm`"
   ]
  },
  {
   "cell_type": "markdown",
   "metadata": {},
   "source": [
    "# 想定QA\n",
    "\n",
    "Q. 欲しい関数があるかどうか調べたい\n",
    "\n",
    "A. ググるかライブラリのAPIを見る（numpyは[ここ](https://docs.scipy.org/doc/numpy/reference/)）"
   ]
  },
  {
   "cell_type": "markdown",
   "metadata": {},
   "source": [
    "Q. `np.dot` とか `np.linalg.norm` とかなんやねん\n",
    "\n",
    "A. ライブラリは階層構造になっている。\n",
    "- `np.dot` は、`numpy` (`np`と書いてる)直下に定義された `dot` という関数、\n",
    "- `np.linalg.norm` は、`numpy` の下の `linalg` (linear algebra; 線形代数)という線形代数の関数をまとめた集まりのなかの `norm` という関数\n",
    "と解釈する"
   ]
  },
  {
   "cell_type": "markdown",
   "metadata": {},
   "source": [
    "Q. じゃあ `np.array` は？\n",
    "\n",
    "A. オブジェクトを作る関数と言ってもいいかも。\n",
    "\n",
    "リストを受け取って `array` を返す"
   ]
  },
  {
   "cell_type": "markdown",
   "metadata": {},
   "source": [
    "# 行列\n",
    "$A = \\begin{bmatrix} 1 & 1 \\\\ 0 & 2 \\end{bmatrix}$"
   ]
  },
  {
   "cell_type": "code",
   "execution_count": null,
   "metadata": {},
   "outputs": [],
   "source": [
    "# np.array にリストのリストを渡すと行列\n",
    "A = np.array([[1.0, 1.0],\n",
    "              [0.0, 2.0]])\n",
    "print(A)"
   ]
  },
  {
   "cell_type": "markdown",
   "metadata": {},
   "source": [
    "# 行列とベクトルの積\n",
    "$Ax$\n",
    "\n",
    "$x^\\top A$"
   ]
  },
  {
   "cell_type": "code",
   "execution_count": null,
   "metadata": {},
   "outputs": [],
   "source": [
    "print(A @ x)\n",
    "print(x @ A)"
   ]
  },
  {
   "cell_type": "code",
   "execution_count": null,
   "metadata": {},
   "outputs": [],
   "source": [
    "print(A @ np.array([1,2,3,4])) # 2x2の行列に4次元のベクトルは掛けられない"
   ]
  },
  {
   "cell_type": "markdown",
   "metadata": {},
   "source": [
    "# 行列と行列の積\n",
    "$A = \\begin{bmatrix} 1 & 1 \\\\ 0 & 2 \\end{bmatrix}$, $B = \\begin{bmatrix} 0 & 1 \\\\ 1 & 2 \\end{bmatrix}$"
   ]
  },
  {
   "cell_type": "code",
   "execution_count": null,
   "metadata": {},
   "outputs": [],
   "source": [
    "A = np.array([[1.0, 1.0],\n",
    "              [0.0, 2.0]])\n",
    "B = np.array([[0.0, 1.0],\n",
    "              [1.0, 2.0]])\n",
    "print(A @ B)\n",
    "print(B @ A)"
   ]
  },
  {
   "cell_type": "markdown",
   "metadata": {},
   "source": [
    "# 演習\n",
    "\n",
    "- $A = \\begin{bmatrix} 2 & 1 \\\\ 1 & 2 \\end{bmatrix}$ の絶対値が最大の固有値とそれに対応する固有ベクトルを計算せよ"
   ]
  },
  {
   "cell_type": "markdown",
   "metadata": {},
   "source": [
    "# 指針\n",
    "\n",
    "1. 手計算\n",
    "1. `numpy` で実装されているのをつかう\n",
    "1. べき乗法"
   ]
  },
  {
   "cell_type": "code",
   "execution_count": null,
   "metadata": {},
   "outputs": [],
   "source": [
    "np.linalg.eigvals(np.array([[2,1],[1,2]]))"
   ]
  },
  {
   "cell_type": "markdown",
   "metadata": {},
   "source": [
    "# 手計算\n",
    "\n",
    "- 固有値、固有ベクトルの定義: $A v = \\lambda v$ を満たす $\\lambda$, $v (\\neq 0)$\n",
    "- 線形方程式 $(A - \\lambda I)v = 0$ が非自明な解（つまり$v\\neq 0$）を持つような $\\lambda$ を見つければよい\n",
    "- 特性方程式 $\\mathrm{det}(A-\\lambda I)=0$ の解が固有値\n",
    "- $\\mathrm{det}(A-\\lambda I) = (2-\\lambda)(2-\\lambda)-1 \\\\= \\lambda^2 - 4\\lambda + 3 = (\\lambda-3)(\\lambda - 1)=0$\n",
    "- 絶対値が最大の固有値は $3$\n",
    "- $(A - \\lambda I)v = \\begin{bmatrix} -1 & 1\\\\1 & -1 \\end{bmatrix}\\begin{bmatrix}v_1\\\\ v_2 \\end{bmatrix}=0$\n",
    "- $v_1 = v_2$ を満たせばよいので、例えば $\\begin{bmatrix} 1 \\\\ 1 \\end{bmatrix}$ が固有ベクトル。"
   ]
  },
  {
   "cell_type": "markdown",
   "metadata": {},
   "source": [
    "# `numpy` で実装されているのを使う\n"
   ]
  },
  {
   "cell_type": "code",
   "execution_count": null,
   "metadata": {},
   "outputs": [],
   "source": [
    "A = np.array([[2, 1], [1, 2]])\n",
    "np.linalg.eig(A)"
   ]
  },
  {
   "cell_type": "markdown",
   "metadata": {},
   "source": [
    "絶対値最大の固有値は $3$、対応する固有ベクトルは $\\begin{bmatrix}0.70710678\\\\ 0.70710678 \\end{bmatrix}$\n",
    "\n",
    "（返り値の解釈は、[API](https://docs.scipy.org/doc/numpy/reference/generated/numpy.linalg.eig.html)を見ましょう）"
   ]
  },
  {
   "cell_type": "markdown",
   "metadata": {},
   "source": [
    "# べき乗法\n",
    "\n",
    "- $A\\in\\mathbb{R}^{N\\times N}$ の固有値と対応する固有ベクトルを $\\lambda_1,\\dots,\\lambda_N$, $v_1,\\dots,v_N$ とする。\n",
    "- $|\\lambda_1| > |\\lambda_2| > \\cdots > |\\lambda_N|$ とする。\n",
    "\n",
    "任意のベクトル $x\\in\\mathbb{R}^N$ は、固有ベクトルで展開できる（固有ベクトルは基底を成す）:\n",
    "\n",
    "$\\begin{eqnarray}\n",
    "x = \\sum_{n=1}^{N}c_n v_n\n",
    "\\end{eqnarray}$"
   ]
  },
  {
   "cell_type": "markdown",
   "metadata": {},
   "source": [
    "$A$ を掛け続けると絶対値最大の固有値に対応する固有ベクトルが（相対的に）強調される:\n",
    "\n",
    "$\\begin{eqnarray}\n",
    "A^k x &= \\sum_{n=1}^{N}c_n A^k v_n = \\sum_{n=1}^N c_n \\lambda_n^k v_n\\\\\n",
    "&= \\lambda_1^k \\sum_{n=1}^N c_n \\left(\\frac{\\lambda_n}{\\lambda_1}\\right)^k v_n\\\\\n",
    "&\\approx \\lambda_1^k c_1 v_1\n",
    "\\end{eqnarray}$\n",
    "\n"
   ]
  },
  {
   "cell_type": "markdown",
   "metadata": {},
   "source": [
    "- 適当なベクトルに行列 $A$ を掛け続けると $v_1$ が求まる\n",
    "- $\\lambda_1 = \\dfrac{v_1^\\top A v_1}{v_1^\\top v_1}$"
   ]
  },
  {
   "cell_type": "code",
   "execution_count": null,
   "metadata": {},
   "outputs": [],
   "source": [
    "A = np.array([[2, 1], [1, 2]])\n",
    "x = np.array([1, 2])\n",
    "for _ in range(100):\n",
    "    x = A @ x\n",
    "    x = x / np.linalg.norm(x) # ベクトルを正規化しないと数値誤差が乗る\n",
    "print(x@A@x / (x@x), x)"
   ]
  },
  {
   "cell_type": "markdown",
   "metadata": {},
   "source": [
    "# 線形方程式\n",
    "\n",
    "$A\\in\\mathbb{R}^{N\\times N}$, $b\\in\\mathbb{R}^N$ としたとき、\n",
    "$Ax=b$ を満たす $x\\in\\mathbb{R}^N$ を求める。\n",
    "\n",
    "$A$ が正則行列（＝逆行列を持つ）のとき、 $x = A^{-1}b$ が解。"
   ]
  },
  {
   "cell_type": "markdown",
   "metadata": {},
   "source": [
    "二通りの実装方法がある\n",
    "- 逆行列を求めるアルゴリズム(Gauss-Jordanなど)を利用\n",
    "- 直接線形方程式を解くアルゴリズム(LU分解)を利用\n",
    "\n",
    "<div style=\"text-align: center;\">\n",
    "__なるべく直接線形方程式を解くアルゴリズムを利用すべき__\n",
    "</div>"
   ]
  },
  {
   "cell_type": "markdown",
   "metadata": {},
   "source": [
    "- LU 分解の方がそもそも速い\n",
    "    - $A$ の形によっては更に速くなる\n",
    "- `numpy` では逆行列を求めるのに$AX=I$を解いている（＝線形方程式を解くのと同じ計算時間がここで必要）\n",
    "    - さらに $A^{-1}b$ を計算しないといけないので計算時間的に損\n",
    "\n",
    "（参考）伊理正夫, 藤野和建: 数値計算の常識"
   ]
  },
  {
   "cell_type": "markdown",
   "metadata": {},
   "source": [
    "# 主成分分析, PCA\n",
    "\n",
    "データ $x_1,\\dots,x_N\\in \\mathbb{R}^D$ があったとき、その\"特性\"を保ったまま低次元表現を得たい。\n",
    "- データを目で見たい（100次元だと見られないけど2次元なら）\n",
    "- 同じ情報量ならば低次元の方が学習しやすい\n",
    "- 特性の定義によって様々な手法がある\n",
    "- $p~(<D)$次元表現を得る≒ $p$本のいい感じの基底を選ぶ"
   ]
  },
  {
   "cell_type": "markdown",
   "metadata": {},
   "source": [
    "- $X = \\begin{bmatrix} x_1 & x_2 & \\dots & x_N \\end{bmatrix}^\\top$\n",
    "- 平均$0$であるとする: $\\sum_{n=1}^N x_n = 0$\n",
    "- PCA は、なるべく分散が大きくなるような基底を選ぶ"
   ]
  },
  {
   "cell_type": "markdown",
   "metadata": {},
   "source": [
    "### 1次元表現を得る場合\n",
    "<div style=\"text-align: center;\">\n",
    "$\\max_{\\|w\\|=1} \\|Xw\\|^2$\n",
    "</div>\n",
    "を解けばよい。\n",
    "\n",
    "$\\|Xw\\|^2 = w^\\top (X^\\top X) w$ である。\n",
    "\n",
    "- $X^\\top X$ は実対称行列なので、固有値はすべて実数"
   ]
  },
  {
   "cell_type": "code",
   "execution_count": null,
   "metadata": {},
   "outputs": [],
   "source": []
  }
 ],
 "metadata": {
  "language_info": {
   "name": "python",
   "pygments_lexer": "ipython3"
  }
 },
 "nbformat": 4,
 "nbformat_minor": 2
}
