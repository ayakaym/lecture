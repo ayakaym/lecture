{
 "cells": [
  {
   "cell_type": "code",
   "execution_count": 1,
   "metadata": {
    "slideshow": {
     "slide_type": "skip"
    }
   },
   "outputs": [
    {
     "data": {
      "text/html": [
       "<link rel=\"stylesheet\" type=\"text/css\" href=\"../custom.css\">"
      ],
      "text/plain": [
       "<IPython.core.display.HTML object>"
      ]
     },
     "metadata": {},
     "output_type": "display_data"
    }
   ],
   "source": [
    "%%HTML\n",
    "<link rel=\"stylesheet\" type=\"text/css\" href=\"../custom.css\">"
   ]
  },
  {
   "cell_type": "markdown",
   "metadata": {
    "slideshow": {
     "slide_type": "slide"
    }
   },
   "source": [
    "# 応用計量分析２（第1回）\n",
    "\n",
    "\n",
    "\n",
    "\n",
    "\n",
    "\n",
    "\n",
    "### 担当教員: 梶野 洸（かじの ひろし）\n"
   ]
  },
  {
   "cell_type": "markdown",
   "metadata": {
    "slideshow": {
     "slide_type": "slide"
    }
   },
   "source": [
    "# 本日の内容\n",
    "---------------------\n",
    "\n",
    "- 自己紹介\n",
    "- 講義の概要紹介\n",
    "    - 目的\n",
    "    - 講義の進め方\n",
    "    - 評価方法\n",
    "    - 講義で必要な前提知識\n",
    "- はじめに\n",
    "    - 環境構築（Pythonのインストール）"
   ]
  },
  {
   "cell_type": "markdown",
   "metadata": {
    "slideshow": {
     "slide_type": "slide"
    }
   },
   "source": [
    "# 自己紹介\n",
    "\n",
    "- 名前: 梶野 洸（かじの ひろし）\n",
    "- 現所属: IBM Research - Tokyo \n",
    "    - 数理科学グループ（数学でなにかやる部署）\n",
    "    - 機械学習の研究やビジネス応用を担当\n",
    "        - 時系列解析やケモインフォマティクスへの応用など\n",
    "- 趣味\n",
    "    - 音楽\n",
    "    - ボルダリング（秋葉原でよくやっています）\n",
    "    - 料理"
   ]
  },
  {
   "cell_type": "markdown",
   "metadata": {
    "slideshow": {
     "slide_type": "subslide"
    }
   },
   "source": [
    "# 企業研究者の一日\n",
    "\n",
    "- 8時〜9時くらいに起きる\n",
    "- 11時〜18時くらいまで働く\n",
    "    - 研究（論文書いたり）\n",
    "    - お客様案件（データ解析〜システム実装）\n",
    "    - 会議\n",
    "- 帰ってごはんを作る\n",
    "- たまに0時くらいに電話会議"
   ]
  },
  {
   "cell_type": "markdown",
   "metadata": {
    "slideshow": {
     "slide_type": "subslide"
    }
   },
   "source": [
    "<img src=\"figs/paper.png\">"
   ]
  },
  {
   "cell_type": "markdown",
   "metadata": {
    "slideshow": {
     "slide_type": "slide"
    }
   },
   "source": [
    "# 講義の概要\n",
    "__機械学習__ の中の __教師なし学習__ を中心に、\n",
    "\n",
    "__数理的な内容__ から __プログラミング方法__ までを取扱います。\n",
    "\n",
    "- 機械学習？\n",
    "- 教師なし学習とは？\n",
    "- 数理？\n",
    "- プログラミング？"
   ]
  },
  {
   "cell_type": "markdown",
   "metadata": {
    "slideshow": {
     "slide_type": "slide"
    }
   },
   "source": [
    "# 機械学習とは（現実でやりたいこと）\n",
    "ある概念を具体例から帰納的に獲得する技術である。\n",
    "\n",
    "- 概念: 猫の画像\n",
    "- 具体例: （画像, 猫かどうか）のペア"
   ]
  },
  {
   "cell_type": "markdown",
   "metadata": {},
   "source": [
    "# 機械学習の分類\n",
    "\n",
    "## 教師あり学習\n",
    "$p(Y \\mid X)$ を推定したい。\n",
    "\n",
    "## 教師なし学習"
   ]
  },
  {
   "cell_type": "markdown",
   "metadata": {
    "slideshow": {
     "slide_type": "slide"
    }
   },
   "source": [
    "# 機械学習とは（数学の言葉で書くと）\n",
    "データから確率分布を推定することである。\n",
    "\n",
    "- データ: $\\mathcal{D}=\\{x_1,...,x_N\\}$ \n",
    "- データが従う分布: $p(X)$\n",
    "- やりたいこと: $\\mathcal{D}$ から $p(X)$ を推定する"
   ]
  },
  {
   "cell_type": "markdown",
   "metadata": {
    "slideshow": {
     "slide_type": "slide"
    }
   },
   "source": [
    "# 機械学習とは（現実と数学の対応）\n",
    "---------------------------------------------------\n",
    "\n",
    "\n",
    "|     | 現実                  |   数学   |\n",
    "|:----:|:------------|:----------------------|\n",
    "| 概念 | 画像に猫がいるかいないか | 条件付き確率$p(Y \\mid X)$ |\n",
    "|      | 人間の顔画像の集合 | 確率分布 $p(X)$ |"
   ]
  },
  {
   "cell_type": "markdown",
   "metadata": {
    "slideshow": {
     "slide_type": "slide"
    }
   },
   "source": [
    "# 機械学習を学ぶと何ができるか\n",
    "明示的にプログラムが書けないプログラムを作れるようになる\n",
    "\n",
    "- 画像認識\n",
    "- 音声認識\n",
    "- 翻訳"
   ]
  },
  {
   "cell_type": "markdown",
   "metadata": {
    "slideshow": {
     "slide_type": "slide"
    }
   },
   "source": [
    "# 講義で必要な前提知識\n",
    "教養レベルの数学と簡単なプログラミングの知識を仮定します。\n",
    "\n",
    "### 線形代数\n",
    "行列積、逆行列、固有値、\n",
    "\n",
    "### 確率・統計\n",
    "条件付き確率、期待値、分散、正規分布、最尤推定"
   ]
  },
  {
   "cell_type": "markdown",
   "metadata": {
    "slideshow": {
     "slide_type": "subslide"
    }
   },
   "source": [
    "### プログラミング\n",
    "変数、for文、if文"
   ]
  },
  {
   "cell_type": "code",
   "execution_count": null,
   "metadata": {},
   "outputs": [],
   "source": []
  },
  {
   "cell_type": "markdown",
   "metadata": {
    "slideshow": {
     "slide_type": "slide"
    }
   },
   "source": [
    "# 講義の進め方\n",
    "なるべく講義中に理解してもらえるようにしたいです\n",
    "\n",
    "- 講義中に演習を交えていきます\n",
    "    - 数学の確認\n",
    "    - 簡単なプログラミング\n",
    "- 質問、議論用に Slack を使います\n",
    "    - チャットみたいなもの\n",
    "    - 匿名でいいので登録してもらえると助かります\n",
    "    - わからない=私の説明が悪い、と思って気軽に聞いてください"
   ]
  },
  {
   "cell_type": "markdown",
   "metadata": {
    "slideshow": {
     "slide_type": "subslide"
    }
   },
   "source": [
    "## 毎回持ってくるもの\n",
    "- パソコン\n",
    "- 筆記用具\n"
   ]
  },
  {
   "cell_type": "markdown",
   "metadata": {
    "slideshow": {
     "slide_type": "slide"
    }
   },
   "source": [
    "# 宿題\n",
    "PC に Python の環境をインストールしてきてください。\n",
    "\n",
    "- Anaconda (https://www.anaconda.com/download/) をインストールする\n",
    "    - Python 3.6, 64bit を選択する。\n",
    "- わからなければ「python anaconda (osの名前) インストール」とかで検索する\n",
    "- または slack で聞いてみる"
   ]
  },
  {
   "cell_type": "markdown",
   "metadata": {
    "slideshow": {
     "slide_type": "subslide"
    }
   },
   "source": [
    "1. Anaconda のインストール\n",
    "1. Jupyter notebook の起動（ブラウザが開くはず）\n",
    "    - Windows の場合「スタートメニュー」⇒「すべてのアプリ」⇒「Anaconda3 (64-bit)」⇒「Jupyter Notebook」\n",
    "    - Mac の場合「ターミナル」を起動して `jupyter notebook` と入力して return\n",
    "1. New から Python3 を開く\n",
    "<img src=\"figs/jupyter.png\", style=\"width: 400px;\">\n",
    "1. `print('Hello, world!')` と入力して return, 次のような表示になればOK"
   ]
  },
  {
   "cell_type": "code",
   "execution_count": 1,
   "metadata": {},
   "outputs": [
    {
     "name": "stdout",
     "output_type": "stream",
     "text": [
      "Hello, world!\n"
     ]
    }
   ],
   "source": [
    "print('Hello, world!')"
   ]
  },
  {
   "cell_type": "code",
   "execution_count": null,
   "metadata": {},
   "outputs": [],
   "source": []
  }
 ],
 "metadata": {
  "celltoolbar": "Slideshow",
  "kernelspec": {
   "display_name": "Python 3",
   "language": "python",
   "name": "python3"
  },
  "language_info": {
   "codemirror_mode": {
    "name": "ipython",
    "version": 3
   },
   "file_extension": ".py",
   "mimetype": "text/x-python",
   "name": "python",
   "nbconvert_exporter": "python",
   "pygments_lexer": "ipython3",
   "version": "3.6.4"
  },
  "livereveal": {
   "center": false,
   "controls": true,
   "progress": true,
   "scroll": true,
   "slideNumber": true,
   "start_slideshow_at": "selected",
   "transition": "slide"
  }
 },
 "nbformat": 4,
 "nbformat_minor": 2
}
