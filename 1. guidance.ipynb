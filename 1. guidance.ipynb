{
 "cells": [
  {
   "cell_type": "code",
   "execution_count": 1,
   "metadata": {
    "slideshow": {
     "slide_type": "skip"
    }
   },
   "outputs": [
    {
     "data": {
      "text/html": [
       "<link rel=\"stylesheet\" type=\"text/css\" href=\"custom.css\">"
      ],
      "text/plain": [
       "<IPython.core.display.HTML object>"
      ]
     },
     "metadata": {},
     "output_type": "display_data"
    }
   ],
   "source": [
    "%%HTML\n",
    "<link rel=\"stylesheet\" type=\"text/css\" href=\"custom.css\">"
   ]
  },
  {
   "cell_type": "markdown",
   "metadata": {
    "slideshow": {
     "slide_type": "slide"
    }
   },
   "source": [
    "# 応用計量分析２（第1回）\n",
    "\n",
    "\n",
    "\n",
    "\n",
    "\n",
    "\n",
    "\n",
    "### 担当教員: 梶野 洸（かじの ひろし）\n"
   ]
  },
  {
   "cell_type": "markdown",
   "metadata": {
    "slideshow": {
     "slide_type": "slide"
    }
   },
   "source": [
    "# 本日の内容\n",
    "---------------------\n",
    "\n",
    "- 自己紹介\n",
    "- 講義の概要紹介\n",
    "    - 講義の進め方\n",
    "    - 機械学習とは？\n",
    "    - 機械学習を学ぶと何ができるか？\n",
    "    - 講義で必要な前提知識\n",
    "- はじめに\n",
    "    - 環境構築（Pythonのインストール）"
   ]
  },
  {
   "cell_type": "markdown",
   "metadata": {
    "slideshow": {
     "slide_type": "slide"
    }
   },
   "source": [
    "# 自己紹介\n",
    "\n",
    "- 名前: 梶野 洸（かじの ひろし）\n",
    "- 現所属: IBM Research - Tokyo \n",
    "    - 数理科学グループ（数学でなにかやる部署）\n",
    "    - 機械学習の研究やビジネス応用を担当\n",
    "        - 時系列解析\n",
    "        - ケモインフォマティクスへの応用\n",
    "- 趣味\n",
    "    - 音楽\n",
    "    - ボルダリング（秋葉原でよくやっています）\n",
    "    - 料理"
   ]
  },
  {
   "cell_type": "markdown",
   "metadata": {
    "slideshow": {
     "slide_type": "slide"
    }
   },
   "source": [
    "# 講義の概要\n",
    "__機械学習__ の中の __教師なし学習__ を中心に、\n",
    "\n",
    "__数理的な内容__ から __プログラミング方法__ までを取扱います。\n",
    "\n",
    "- 機械学習？\n",
    "- 教師なし学習とは？\n",
    "- 数理？\n",
    "- プログラミング？"
   ]
  },
  {
   "cell_type": "markdown",
   "metadata": {
    "slideshow": {
     "slide_type": "slide"
    }
   },
   "source": [
    "# 機械学習とは（ふんわり）\n",
    "ある概念をデータから帰納的に獲得する技術である。\n",
    "\n",
    "- 例1\n",
    "    - 概念=ある画像に猫がいるかいないか\n",
    "    - データから帰納的に=画像とラベルのペアを用いて\n",
    "- 例2\n",
    "    - 概念=人の顔画像\n",
    "    - データから帰納的に=人の顔画像"
   ]
  },
  {
   "cell_type": "markdown",
   "metadata": {
    "slideshow": {
     "slide_type": "slide"
    }
   },
   "source": [
    "# 機械学習とは（数学の言葉で書くと）\n",
    "データから確率分布を推定することである。\n",
    "\n",
    "- データ $x_1,...,x_N$ は$p(X)$に従うと仮定する。\n",
    "- "
   ]
  },
  {
   "cell_type": "code",
   "execution_count": null,
   "metadata": {},
   "outputs": [],
   "source": []
  }
 ],
 "metadata": {
  "celltoolbar": "Slideshow",
  "kernelspec": {
   "display_name": "Python 3",
   "language": "python",
   "name": "python3"
  },
  "language_info": {
   "codemirror_mode": {
    "name": "ipython",
    "version": 3
   },
   "file_extension": ".py",
   "mimetype": "text/x-python",
   "name": "python",
   "nbconvert_exporter": "python",
   "pygments_lexer": "ipython3",
   "version": "3.6.4"
  },
  "livereveal": {
   "center": false,
   "controls": false,
   "progress": true,
   "slideNumber": true,
   "start_slideshow_at": "selected",
   "transition": "slide"
  }
 },
 "nbformat": 4,
 "nbformat_minor": 2
}
